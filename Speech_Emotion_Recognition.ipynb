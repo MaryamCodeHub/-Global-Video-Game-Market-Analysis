{
  "nbformat": 4,
  "nbformat_minor": 0,
  "metadata": {
    "colab": {
      "provenance": [],
      "authorship_tag": "ABX9TyNoqYbu3z0MLSBS5vy0w5Cx",
      "include_colab_link": true
    },
    "kernelspec": {
      "name": "python3",
      "display_name": "Python 3"
    },
    "language_info": {
      "name": "python"
    }
  },
  "cells": [
    {
      "cell_type": "markdown",
      "metadata": {
        "id": "view-in-github",
        "colab_type": "text"
      },
      "source": [
        "<a href=\"https://colab.research.google.com/github/MaryamCodeHub/-Global-Video-Game-Market-Analysis/blob/main/Speech_Emotion_Recognition.ipynb\" target=\"_parent\"><img src=\"https://colab.research.google.com/assets/colab-badge.svg\" alt=\"Open In Colab\"/></a>"
      ]
    },
    {
      "cell_type": "code",
      "execution_count": 42,
      "metadata": {
        "colab": {
          "base_uri": "https://localhost:8080/"
        },
        "id": "OxCwvVxBRyy_",
        "outputId": "68f83102-d890-4440-bfb2-5ecb5774cbbd"
      },
      "outputs": [
        {
          "output_type": "stream",
          "name": "stdout",
          "text": [
            "Using Colab cache for faster access to the 'ravdess-emotional-speech-audio' dataset.\n",
            "Path to dataset files: /kaggle/input/ravdess-emotional-speech-audio\n"
          ]
        }
      ],
      "source": [
        "import kagglehub\n",
        "\n",
        "# Download latest version\n",
        "path = kagglehub.dataset_download(\"uwrfkaggler/ravdess-emotional-speech-audio\")\n",
        "\n",
        "print(\"Path to dataset files:\", path)"
      ]
    },
    {
      "cell_type": "code",
      "source": [
        "import os\n",
        "import librosa\n",
        "import numpy as np\n",
        "import soundfile\n",
        "from sklearn.model_selection import train_test_split\n",
        "from sklearn.svm import SVC\n",
        "from sklearn.metrics import accuracy_score, classification_report, confusion_matrix\n",
        "import matplotlib.pyplot as plt\n",
        "import seaborn as sns\n"
      ],
      "metadata": {
        "id": "X4S4TjsPR84k"
      },
      "execution_count": 43,
      "outputs": []
    },
    {
      "cell_type": "markdown",
      "source": [
        "# Load Dataset"
      ],
      "metadata": {
        "id": "ebIrkGsoSHTX"
      }
    },
    {
      "cell_type": "code",
      "source": [
        "# 1. Emotion mapping\n",
        "emotions = {\n",
        "    \"01\": \"neutral\",\n",
        "    \"02\": \"calm\",\n",
        "    \"03\": \"happy\",\n",
        "    \"04\": \"sad\",\n",
        "    \"05\": \"angry\",\n",
        "    \"06\": \"fearful\",\n",
        "    \"07\": \"disgust\",\n",
        "    \"08\": \"surprised\"\n",
        "}\n",
        "observed_emotions = list(emotions.values())  # keep all emotions"
      ],
      "metadata": {
        "id": "UBXFqvWCSGsm"
      },
      "execution_count": 44,
      "outputs": []
    },
    {
      "cell_type": "markdown",
      "source": [
        "# Feature Extraction"
      ],
      "metadata": {
        "id": "ToQrHAcCSSPw"
      }
    },
    {
      "cell_type": "code",
      "source": [
        "def extract_features(file_path, mfcc=True, chroma=True, mel=True):\n",
        "    try:\n",
        "        y, sr = librosa.load(file_path, sr=None)\n",
        "\n",
        "        if len(y) < 2048:  # skip corrupted/too short files\n",
        "            return None\n",
        "\n",
        "        result = np.array([])\n",
        "\n",
        "        if mfcc:\n",
        "            mfccs = librosa.feature.mfcc(y=y, sr=sr, n_mfcc=40)\n",
        "            mfccs = np.mean(mfccs.T, axis=0)\n",
        "            result = np.hstack((result, mfccs))\n",
        "\n",
        "        if chroma:\n",
        "            stft = np.abs(librosa.stft(y=y))\n",
        "            chroma_feat = librosa.feature.chroma_stft(S=stft, sr=sr)\n",
        "            chroma_feat = np.mean(chroma_feat.T, axis=0)\n",
        "            result = np.hstack((result, chroma_feat))\n",
        "\n",
        "        if mel:\n",
        "            mel_feat = librosa.feature.melspectrogram(y=y, sr=sr)\n",
        "            mel_feat = np.mean(mel_feat.T, axis=0)\n",
        "            result = np.hstack((result, mel_feat))\n",
        "\n",
        "        return result\n",
        "\n",
        "    except Exception as e:\n",
        "        print(f\"⚠️ Error extracting {file_path}: {e}\")\n",
        "        return None\n"
      ],
      "metadata": {
        "id": "dmCh2J9YSRbP"
      },
      "execution_count": 45,
      "outputs": []
    },
    {
      "cell_type": "markdown",
      "source": [
        "# Load Data"
      ],
      "metadata": {
        "id": "N9JLJuXQSY8p"
      }
    },
    {
      "cell_type": "code",
      "source": [
        "def load_data(dataset_path):\n",
        "    X, y = [], []\n",
        "    skipped = 0\n",
        "\n",
        "    for root, dirs, files in os.walk(dataset_path):\n",
        "        for file in files:\n",
        "            if file.endswith(\".wav\"):   # only process wav files\n",
        "                file_path = os.path.join(root, file)\n",
        "                try:\n",
        "                    emotion_id = file.split(\"-\")[2]\n",
        "                    emotion = emotions.get(emotion_id)\n",
        "\n",
        "                    if emotion in observed_emotions:\n",
        "                        feature = extract_features(file_path)\n",
        "                        if feature is not None:\n",
        "                            X.append(feature)\n",
        "                            y.append(emotion)\n",
        "                        else:\n",
        "                            skipped += 1\n",
        "                except Exception as e:\n",
        "                    print(f\"⚠️ Error processing {file_path}: {e}\")\n",
        "                    skipped += 1\n",
        "\n",
        "    print(f\"✅ Loaded {len(X)} samples, Skipped {skipped} files.\")\n",
        "    return np.array(X), np.array(y)\n"
      ],
      "metadata": {
        "id": "akeBqPSGSVVt"
      },
      "execution_count": 46,
      "outputs": []
    },
    {
      "cell_type": "code",
      "source": [
        "dataset_path = path\n",
        "X, y = load_data(dataset_path)\n",
        "\n",
        "print(\"Features shape:\", X.shape)\n",
        "print(\"Labels shape:\", y.shape)\n",
        "print(\"Sample labels:\", y[:10])\n"
      ],
      "metadata": {
        "colab": {
          "base_uri": "https://localhost:8080/"
        },
        "id": "PFnakYq7kJ-f",
        "outputId": "f49271b4-2a04-49fe-9d50-9039482e10a2"
      },
      "execution_count": 47,
      "outputs": [
        {
          "output_type": "stream",
          "name": "stdout",
          "text": [
            "✅ Loaded 2880 samples, Skipped 0 files.\n",
            "Features shape: (2880, 180)\n",
            "Labels shape: (2880,)\n",
            "Sample labels: ['surprised' 'neutral' 'disgust' 'disgust' 'neutral' 'fearful' 'sad'\n",
            " 'neutral' 'calm' 'happy']\n"
          ]
        }
      ]
    },
    {
      "cell_type": "code",
      "source": [
        "X_train, X_test, y_train, y_test = train_test_split(X, y, test_size=0.2, random_state=42)\n"
      ],
      "metadata": {
        "id": "GNywhzWxSbJ3"
      },
      "execution_count": 48,
      "outputs": []
    },
    {
      "cell_type": "code",
      "metadata": {
        "id": "f3350db2"
      },
      "source": [
        "# Initialize and train the SVM model\n",
        "svm_model = SVC(kernel='linear')  # You can experiment with different kernels\n",
        "svm_model.fit(X_train, y_train)\n",
        "\n",
        "# Make predictions on the test set\n",
        "y_pred = svm_model.predict(X_test)"
      ],
      "execution_count": 49,
      "outputs": []
    },
    {
      "cell_type": "code",
      "source": [
        "# Evaluation\n",
        "print(\"Accuracy:\", accuracy_score(y_test, y_pred))\n",
        "print(\"\\nClassification Report:\\n\", classification_report(y_test, y_pred))\n",
        "\n",
        "# Confusion Matrix\n",
        "cm = confusion_matrix(y_test, y_pred, labels=observed_emotions)\n",
        "plt.figure(figsize=(6,4))\n",
        "sns.heatmap(cm, annot=True, fmt=\"d\", cmap=\"Blues\",\n",
        "            xticklabels=observed_emotions, yticklabels=observed_emotions)\n",
        "plt.xlabel(\"Predicted\")\n",
        "plt.ylabel(\"True\")\n",
        "plt.show()"
      ],
      "metadata": {
        "colab": {
          "base_uri": "https://localhost:8080/",
          "height": 750
        },
        "id": "jwl1h4APgk-5",
        "outputId": "f8357cd9-2e97-4c65-8470-b40be337eb60"
      },
      "execution_count": 50,
      "outputs": [
        {
          "output_type": "stream",
          "name": "stdout",
          "text": [
            "Accuracy: 0.65625\n",
            "\n",
            "Classification Report:\n",
            "               precision    recall  f1-score   support\n",
            "\n",
            "       angry       0.81      0.83      0.82        87\n",
            "        calm       0.65      0.73      0.69        84\n",
            "     disgust       0.56      0.67      0.61        75\n",
            "     fearful       0.62      0.73      0.67        62\n",
            "       happy       0.74      0.57      0.64        69\n",
            "     neutral       0.58      0.43      0.49        35\n",
            "         sad       0.61      0.54      0.57        89\n",
            "   surprised       0.65      0.64      0.64        75\n",
            "\n",
            "    accuracy                           0.66       576\n",
            "   macro avg       0.65      0.64      0.64       576\n",
            "weighted avg       0.66      0.66      0.65       576\n",
            "\n"
          ]
        },
        {
          "output_type": "display_data",
          "data": {
            "text/plain": [
              "<Figure size 600x400 with 2 Axes>"
            ],
            "image/png": "[encoded data removed]"
          },
          "metadata": {}
        }
      ]
    }
  ]
}